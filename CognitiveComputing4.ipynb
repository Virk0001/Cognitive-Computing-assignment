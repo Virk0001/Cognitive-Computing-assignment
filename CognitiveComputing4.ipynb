{
  "nbformat": 4,
  "nbformat_minor": 0,
  "metadata": {
    "colab": {
      "provenance": []
    },
    "kernelspec": {
      "name": "python3",
      "display_name": "Python 3"
    },
    "language_info": {
      "name": "python"
    }
  },
  "cells": [
    {
      "cell_type": "code",
      "execution_count": 1,
      "metadata": {
        "colab": {
          "base_uri": "https://localhost:8080/"
        },
        "id": "SYd6yputbPPP",
        "outputId": "5773e37f-9e1c-4e0f-bc5f-187593f14ca1"
      },
      "outputs": [
        {
          "output_type": "stream",
          "name": "stdout",
          "text": [
            "[3 4 5 6 7]\n",
            "[ 3  6  9 12 15]\n",
            "[0.5 1.  1.5 2.  2.5]\n"
          ]
        }
      ],
      "source": [
        "# Q.1 Write a program to create a NumPy 1D-array with 5 elements and perform basic operations like:\n",
        "# a)\tAddition of 2 in all the element\n",
        "# b)\tMultiply 3 with all the elements\n",
        "# c)\tDivide every element by 2\n",
        "\n",
        "import numpy as np\n",
        "\n",
        "myFirstArr = np.array([1,2,3,4,5])\n",
        "\n",
        "added2arr = myFirstArr+2\n",
        "print(added2arr)\n",
        "\n",
        "multiply3arr = myFirstArr*3\n",
        "print(multiply3arr)\n",
        "\n",
        "divide2arr = myFirstArr/2\n",
        "print(divide2arr)\n"
      ]
    },
    {
      "cell_type": "code",
      "source": [
        "# Q.2 Questions on Basic NumPy Array:\n",
        "# a)\tReverse the NumPy array: arr = np.array([1, 2, 3, 6, 4, 5])\n",
        "# b)\tFind the most frequent value and their indice(s) in the following arrays:\n",
        "# i. x = np.array([1,2,3,4,5,1,2,1,1,1]) ii. y = np.array([1, 1, 1, 2, 3, 4, 2, 4, 3, 3, ])\n",
        "\n",
        "arr = np.array([1, 2, 3, 6, 4, 5])\n",
        "\n",
        "reverseArr = arr[::-1]\n",
        "x = np.array([1,2,3,4,5,1,2,1,1,1])\n",
        "y = np.array([1, 1, 1, 2, 3, 4, 2, 4, 3, 3])\n",
        "\n",
        "countsx = np.bincount(x)\n",
        "countsy = np.bincount(y)\n",
        "print(np.argmax(countsx))\n",
        "print(np.argmax(countsy))\n",
        "\n"
      ],
      "metadata": {
        "colab": {
          "base_uri": "https://localhost:8080/"
        },
        "id": "h2-OxhoabZu0",
        "outputId": "64157182-0452-4f06-9ec9-fdde7bcb00b0"
      },
      "execution_count": 2,
      "outputs": [
        {
          "output_type": "stream",
          "name": "stdout",
          "text": [
            "1\n",
            "1\n"
          ]
        }
      ]
    },
    {
      "cell_type": "code",
      "source": [
        "\n",
        "# Q.3 For the given 2-D array arr=np.array([10, 20, 30], [40, 50, 60], [70, 80, 90]), access elements using row and column indices as follows:\n",
        "# a)\tAccess 1st row, 2nd column\n",
        "# b)\tAccess 3rd row, 1st column\n",
        "\n",
        "arr=np.array([[10, 20, 30], [40, 50, 60], [70, 80, 90]])\n",
        "\n",
        "print(arr[0,1])\n",
        "print(arr[2,0])"
      ],
      "metadata": {
        "colab": {
          "base_uri": "https://localhost:8080/"
        },
        "id": "rdp4D3libdWx",
        "outputId": "e718cdd4-364a-4476-ca10-533d431d847e"
      },
      "execution_count": 3,
      "outputs": [
        {
          "output_type": "stream",
          "name": "stdout",
          "text": [
            "20\n",
            "70\n"
          ]
        }
      ]
    },
    {
      "cell_type": "code",
      "source": [
        "\n",
        "# Q.4 Write program to create an 1-D NumPy array named <> with evenly spaced 25 numbers from 10 to 100 using linspace().\n",
        "# Print the dimensions of the array, shape, total elements, the data type of each element and total number of bytes consumed by the array.\n",
        "# Find the transpose of this array using reshape() attribute.\n",
        "# Can we do the same with T attribute?\n",
        "\n",
        "AryamanGudwani = np.linspace(10,100,num=25)\n",
        "print(AryamanGudwani)\n",
        "\n",
        "print(AryamanGudwani.shape)\n",
        "\n",
        "print(AryamanGudwani.size)\n",
        "\n",
        "print(AryamanGudwani.dtype)\n",
        "\n",
        "print(AryamanGudwani.nbytes)\n",
        "\n",
        "print(AryamanGudwani.reshape(AryamanGudwani.size,1))\n",
        "\n",
        "sample = np.array([[1,2,3],[4,5,6]])\n",
        "print(sample.T)"
      ],
      "metadata": {
        "colab": {
          "base_uri": "https://localhost:8080/"
        },
        "id": "kysnOeBObf_o",
        "outputId": "e1ea0935-9001-4636-93e9-6b1b2c2642ba"
      },
      "execution_count": 4,
      "outputs": [
        {
          "output_type": "stream",
          "name": "stdout",
          "text": [
            "[ 10.    13.75  17.5   21.25  25.    28.75  32.5   36.25  40.    43.75\n",
            "  47.5   51.25  55.    58.75  62.5   66.25  70.    73.75  77.5   81.25\n",
            "  85.    88.75  92.5   96.25 100.  ]\n",
            "(25,)\n",
            "25\n",
            "float64\n",
            "200\n",
            "[[ 10.  ]\n",
            " [ 13.75]\n",
            " [ 17.5 ]\n",
            " [ 21.25]\n",
            " [ 25.  ]\n",
            " [ 28.75]\n",
            " [ 32.5 ]\n",
            " [ 36.25]\n",
            " [ 40.  ]\n",
            " [ 43.75]\n",
            " [ 47.5 ]\n",
            " [ 51.25]\n",
            " [ 55.  ]\n",
            " [ 58.75]\n",
            " [ 62.5 ]\n",
            " [ 66.25]\n",
            " [ 70.  ]\n",
            " [ 73.75]\n",
            " [ 77.5 ]\n",
            " [ 81.25]\n",
            " [ 85.  ]\n",
            " [ 88.75]\n",
            " [ 92.5 ]\n",
            " [ 96.25]\n",
            " [100.  ]]\n",
            "[[1 4]\n",
            " [2 5]\n",
            " [3 6]]\n"
          ]
        }
      ]
    },
    {
      "cell_type": "code",
      "source": [
        "\n",
        "# Q5. Create a 2-D Array of three rows and four columns, named ucs420_> with following values – 10, 20, 30, 40, 50, 60, 70, 80, 90, 15, 20, 35.\n",
        "# Compute the mean, median, max, min, unique elements.\n",
        "# Reshape the array to four rows and three columns and name it as reshaped_ ucs420_>.\n",
        "# Resize the array to two rows and three columns and name it as resized_ ucs420_>.\n",
        "\n",
        "import numpy as np\n",
        "\n",
        "sample = np.array([10,20,30,40,50,60,70,70,90,15,20,35])\n",
        "\n",
        "ucs420_AryamanGudwani = sample.reshape(3,4)\n",
        "print(\"Mean is: \" , np.mean(ucs420_AryamanGudwani))\n",
        "print(\"Median is: \" , np.median(ucs420_AryamanGudwani))\n",
        "print(\"Max is: \" , np.amax(ucs420_AryamanGudwani))\n",
        "print(\"Min is: \" , np.amin(ucs420_AryamanGudwani))\n",
        "print(\"Unique is: \" , np.unique(ucs420_AryamanGudwani))\n",
        "\n",
        "\n",
        "reshaped_ucs420_AryamanGudwani = ucs420_AryamanGudwani.reshape(4,3)\n",
        "print(reshaped_ucs420_AryamanGudwani)\n",
        "\n",
        "resized_ucs420_AryamanGudwani = ucs420_AryamanGudwani.reshape(2,3)\n",
        "print(resized_ucs420_AryamanGudwani)\n",
        "\n"
      ],
      "metadata": {
        "colab": {
          "base_uri": "https://localhost:8080/",
          "height": 367
        },
        "id": "bPm1ASN3biri",
        "outputId": "74e928bc-1a88-4186-f309-fa05ea0f9237"
      },
      "execution_count": 5,
      "outputs": [
        {
          "output_type": "stream",
          "name": "stdout",
          "text": [
            "Mean is:  42.5\n",
            "Median is:  37.5\n",
            "Max is:  90\n",
            "Min is:  10\n",
            "Unique is:  [10 15 20 30 35 40 50 60 70 90]\n",
            "[[10 20 30]\n",
            " [40 50 60]\n",
            " [70 70 90]\n",
            " [15 20 35]]\n"
          ]
        },
        {
          "output_type": "error",
          "ename": "ValueError",
          "evalue": "cannot reshape array of size 12 into shape (2,3)",
          "traceback": [
            "\u001b[0;31m---------------------------------------------------------------------------\u001b[0m",
            "\u001b[0;31mValueError\u001b[0m                                Traceback (most recent call last)",
            "\u001b[0;32m<ipython-input-5-061addccd9ab>\u001b[0m in \u001b[0;36m<cell line: 0>\u001b[0;34m()\u001b[0m\n\u001b[1;32m     19\u001b[0m \u001b[0mprint\u001b[0m\u001b[0;34m(\u001b[0m\u001b[0mreshaped_ucs420_AryamanGudwani\u001b[0m\u001b[0;34m)\u001b[0m\u001b[0;34m\u001b[0m\u001b[0;34m\u001b[0m\u001b[0m\n\u001b[1;32m     20\u001b[0m \u001b[0;34m\u001b[0m\u001b[0m\n\u001b[0;32m---> 21\u001b[0;31m \u001b[0mresized_ucs420_AryamanGudwani\u001b[0m \u001b[0;34m=\u001b[0m \u001b[0mucs420_AryamanGudwani\u001b[0m\u001b[0;34m.\u001b[0m\u001b[0mreshape\u001b[0m\u001b[0;34m(\u001b[0m\u001b[0;36m2\u001b[0m\u001b[0;34m,\u001b[0m\u001b[0;36m3\u001b[0m\u001b[0;34m)\u001b[0m\u001b[0;34m\u001b[0m\u001b[0;34m\u001b[0m\u001b[0m\n\u001b[0m\u001b[1;32m     22\u001b[0m \u001b[0mprint\u001b[0m\u001b[0;34m(\u001b[0m\u001b[0mresized_ucs420_AryamanGudwani\u001b[0m\u001b[0;34m)\u001b[0m\u001b[0;34m\u001b[0m\u001b[0;34m\u001b[0m\u001b[0m\n\u001b[1;32m     23\u001b[0m \u001b[0;34m\u001b[0m\u001b[0m\n",
            "\u001b[0;31mValueError\u001b[0m: cannot reshape array of size 12 into shape (2,3)"
          ]
        }
      ]
    },
    {
      "cell_type": "code",
      "source": [],
      "metadata": {
        "id": "fbrrgk5nbpd2"
      },
      "execution_count": null,
      "outputs": []
    }
  ]
}
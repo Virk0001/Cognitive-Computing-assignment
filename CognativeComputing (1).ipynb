{
  "nbformat": 4,
  "nbformat_minor": 0,
  "metadata": {
    "colab": {
      "provenance": []
    },
    "kernelspec": {
      "name": "python3",
      "display_name": "Python 3"
    },
    "language_info": {
      "name": "python"
    }
  },
  "cells": [
    {
      "cell_type": "markdown",
      "source": [
        "# Lab 1"
      ],
      "metadata": {
        "id": "dZJAr8b8i7vY"
      }
    },
    {
      "cell_type": "code",
      "execution_count": 1,
      "metadata": {
        "colab": {
          "base_uri": "https://localhost:8080/"
        },
        "id": "nTK4IyN9ZzPy",
        "outputId": "5076de64-103b-46db-8569-cb0f169694e9"
      },
      "outputs": [
        {
          "output_type": "stream",
          "name": "stdout",
          "text": [
            "Cognative Computing\n"
          ]
        }
      ],
      "source": [
        "#Question 1\n",
        "print('Cognative Computing')"
      ]
    },
    {
      "cell_type": "code",
      "source": [
        "#Question 2\n",
        "#2.1\n",
        "a=5\n",
        "b=6\n",
        "print(a+b)"
      ],
      "metadata": {
        "colab": {
          "base_uri": "https://localhost:8080/"
        },
        "id": "iajprHcLaS8W",
        "outputId": "cd1ac27c-77d9-42cd-f25d-1ea4e5876022"
      },
      "execution_count": 2,
      "outputs": [
        {
          "output_type": "stream",
          "name": "stdout",
          "text": [
            "11\n"
          ]
        }
      ]
    },
    {
      "cell_type": "code",
      "source": [
        "#2.2\n",
        "a='Gursher'\n",
        "b='Singh'\n",
        "print(a+' '+b)"
      ],
      "metadata": {
        "colab": {
          "base_uri": "https://localhost:8080/"
        },
        "id": "vD25otpnakz7",
        "outputId": "003176e6-7e3a-4fb0-9f43-1535fee58f64"
      },
      "execution_count": 3,
      "outputs": [
        {
          "output_type": "stream",
          "name": "stdout",
          "text": [
            "Gursher Singh\n"
          ]
        }
      ]
    },
    {
      "cell_type": "code",
      "source": [
        "#2.3\n",
        "a='Gursher'\n",
        "b=100\n",
        "res=a+str(b)\n",
        "print(res)"
      ],
      "metadata": {
        "colab": {
          "base_uri": "https://localhost:8080/"
        },
        "id": "gmwnukLebXGK",
        "outputId": "82ecd136-b3e1-48e9-fe34-da27beaf9a1a"
      },
      "execution_count": 4,
      "outputs": [
        {
          "output_type": "stream",
          "name": "stdout",
          "text": [
            "Gursher100\n"
          ]
        }
      ]
    },
    {
      "cell_type": "code",
      "source": [
        "#Question 3\n",
        "#3.1\n",
        "num=input('Enter a number:')\n",
        "if int(num)>0:\n",
        "    print('Number is positive')\n",
        "elif int(num)==0:\n",
        "    print('Number is zero')\n",
        "else:\n",
        "    print('Number is negative')"
      ],
      "metadata": {
        "id": "fbPkgsZccGpi",
        "colab": {
          "base_uri": "https://localhost:8080/"
        },
        "outputId": "7f8b531a-e886-4fe2-a575-c88cc4c0fba5"
      },
      "execution_count": 5,
      "outputs": [
        {
          "output_type": "stream",
          "name": "stdout",
          "text": [
            "Enter a number:6\n",
            "Number is positive\n"
          ]
        }
      ]
    },
    {
      "cell_type": "code",
      "source": [
        "#3.2\n",
        "num=input('Enter a number:')\n",
        "if int(num)%2==0:\n",
        "  print('Number is even')\n",
        "else:\n",
        "  print('Number is odd')"
      ],
      "metadata": {
        "colab": {
          "base_uri": "https://localhost:8080/"
        },
        "id": "bz9LrqU5i_DM",
        "outputId": "c7696f83-90a4-46be-de7b-00a533d827dd"
      },
      "execution_count": 6,
      "outputs": [
        {
          "output_type": "stream",
          "name": "stdout",
          "text": [
            "Enter a number:5\n",
            "Number is odd\n"
          ]
        }
      ]
    },
    {
      "cell_type": "code",
      "source": [
        "#Question 4\n",
        "#4.1\n",
        "for i in range(1,11):\n",
        "  print(i)"
      ],
      "metadata": {
        "colab": {
          "base_uri": "https://localhost:8080/"
        },
        "id": "_sQRvftfkhl6",
        "outputId": "f9888e66-8eff-4dc4-d401-f3cc9a6397cc"
      },
      "execution_count": 7,
      "outputs": [
        {
          "output_type": "stream",
          "name": "stdout",
          "text": [
            "1\n",
            "2\n",
            "3\n",
            "4\n",
            "5\n",
            "6\n",
            "7\n",
            "8\n",
            "9\n",
            "10\n"
          ]
        }
      ]
    },
    {
      "cell_type": "code",
      "source": [
        "#4.2\n",
        "i=1\n",
        "while i<=10:\n",
        "  print(i)\n",
        "  i+=1"
      ],
      "metadata": {
        "colab": {
          "base_uri": "https://localhost:8080/"
        },
        "id": "ZKNsEABAlBau",
        "outputId": "b5e1dbfc-4776-4f01-a8d5-e67d30496a06"
      },
      "execution_count": 8,
      "outputs": [
        {
          "output_type": "stream",
          "name": "stdout",
          "text": [
            "1\n",
            "2\n",
            "3\n",
            "4\n",
            "5\n",
            "6\n",
            "7\n",
            "8\n",
            "9\n",
            "10\n"
          ]
        }
      ]
    },
    {
      "cell_type": "code",
      "source": [
        "#4.3\n",
        "sum=0\n",
        "for i in range(1,101):\n",
        "  sum=sum+i\n",
        "print(sum)"
      ],
      "metadata": {
        "colab": {
          "base_uri": "https://localhost:8080/"
        },
        "id": "onoIRZJMm8jr",
        "outputId": "04edae62-abbc-4e4c-db91-e2570d4715f9"
      },
      "execution_count": 9,
      "outputs": [
        {
          "output_type": "stream",
          "name": "stdout",
          "text": [
            "5050\n"
          ]
        }
      ]
    },
    {
      "cell_type": "code",
      "source": [
        "#Question 5\n",
        "#5.1\n",
        "numbers=[3,1,4,5,1]\n",
        "largest=numbers[0]\n",
        "smallest=numbers[0]\n",
        "for i in numbers:\n",
        "  if i>largest:\n",
        "    largest=i\n",
        "  if i<smallest:\n",
        "    smallest=i\n",
        "print('Largest number:',largest)\n",
        "print('Smallest number:',smallest)"
      ],
      "metadata": {
        "colab": {
          "base_uri": "https://localhost:8080/"
        },
        "id": "pXKUmCJvnw6g",
        "outputId": "38f24368-81bc-45f0-aed8-d80febcb1786"
      },
      "execution_count": 10,
      "outputs": [
        {
          "output_type": "stream",
          "name": "stdout",
          "text": [
            "Largest number: 5\n",
            "Smallest number: 1\n"
          ]
        }
      ]
    },
    {
      "cell_type": "code",
      "source": [
        "#5.2\n",
        "my_dict={\n",
        "    'name':'Gursher',\n",
        "    'age':19,\n",
        "    'city':'Patiala'\n",
        "}\n",
        "key=input('Enter a key:')\n",
        "print(my_dict[key])"
      ],
      "metadata": {
        "colab": {
          "base_uri": "https://localhost:8080/",
          "height": 193
        },
        "id": "u6h08IEjdjYL",
        "outputId": "fc65c468-305d-47b9-f906-83e017b27c62"
      },
      "execution_count": 11,
      "outputs": [
        {
          "name": "stdout",
          "output_type": "stream",
          "text": [
            "Enter a key:7\n"
          ]
        },
        {
          "output_type": "error",
          "ename": "KeyError",
          "evalue": "'7'",
          "traceback": [
            "\u001b[0;31m---------------------------------------------------------------------------\u001b[0m",
            "\u001b[0;31mKeyError\u001b[0m                                  Traceback (most recent call last)",
            "\u001b[0;32m<ipython-input-11-8025505f3f1d>\u001b[0m in \u001b[0;36m<cell line: 0>\u001b[0;34m()\u001b[0m\n\u001b[1;32m      6\u001b[0m }\n\u001b[1;32m      7\u001b[0m \u001b[0mkey\u001b[0m\u001b[0;34m=\u001b[0m\u001b[0minput\u001b[0m\u001b[0;34m(\u001b[0m\u001b[0;34m'Enter a key:'\u001b[0m\u001b[0;34m)\u001b[0m\u001b[0;34m\u001b[0m\u001b[0;34m\u001b[0m\u001b[0m\n\u001b[0;32m----> 8\u001b[0;31m \u001b[0mprint\u001b[0m\u001b[0;34m(\u001b[0m\u001b[0mmy_dict\u001b[0m\u001b[0;34m[\u001b[0m\u001b[0mkey\u001b[0m\u001b[0;34m]\u001b[0m\u001b[0;34m)\u001b[0m\u001b[0;34m\u001b[0m\u001b[0;34m\u001b[0m\u001b[0m\n\u001b[0m",
            "\u001b[0;31mKeyError\u001b[0m: '7'"
          ]
        }
      ]
    },
    {
      "cell_type": "code",
      "source": [
        "#5.3\n",
        "numbers=[3,2,1,4,5]\n",
        "numbers.sort()\n",
        "print('Ascending order is',numbers)\n",
        "numbers.reverse()\n",
        "print('Descending order is',numbers)"
      ],
      "metadata": {
        "id": "0PG3C74Fxrbx"
      },
      "execution_count": null,
      "outputs": []
    },
    {
      "cell_type": "code",
      "source": [
        "#5.4\n",
        "dict1={\n",
        "    'name':'Gursher'\n",
        "}\n",
        "dict2={\n",
        "    'age':19\n",
        "}\n",
        "merged_dict=dict1|dict2\n",
        "print(merged_dict)"
      ],
      "metadata": {
        "id": "IfINZTNMyfP9"
      },
      "execution_count": null,
      "outputs": []
    },
    {
      "cell_type": "code",
      "source": [
        "#Question 5\n",
        "#6.1\n",
        "def count_vowels(string):\n",
        "  vowels='aeiouAEIOU'\n",
        "  count=0\n",
        "  for i in string:\n",
        "    if i in vowels:\n",
        "      count+=1\n",
        "  return count\n",
        "number=input('Enter a string:')\n",
        "vowel_count=count_vowels(number)\n",
        "print('The number of vowels in the string is:',vowel_count)"
      ],
      "metadata": {
        "id": "B_qm-rjN0208"
      },
      "execution_count": null,
      "outputs": []
    },
    {
      "cell_type": "code",
      "source": [
        "#6.2\n",
        "def reverse_string(string):\n",
        "  return string[::-1]\n",
        "number=input('Enter a string:')\n",
        "result=reverse_string(number)\n",
        "print('The reversed string is:',result)"
      ],
      "metadata": {
        "id": "a3J73g8A4s9o"
      },
      "execution_count": null,
      "outputs": []
    },
    {
      "cell_type": "code",
      "source": [
        "#6.3\n",
        "def is_palindrome(string):\n",
        "    res = ''.join(string.split()).lower()\n",
        "    return res == res[::-1]\n",
        "word = input(\"Enter a string: \")\n",
        "if is_palindrome(word):\n",
        "    print(word,' is a palindrome')\n",
        "else:\n",
        "    print(word,' is not a palindrome')\n"
      ],
      "metadata": {
        "id": "SR7M8P805vQz"
      },
      "execution_count": null,
      "outputs": []
    },
    {
      "cell_type": "code",
      "source": [
        "#Ques 7\n",
        "#7.1\n",
        "with open('file1','w') as file:\n",
        "  file.write('Hello World')\n",
        "with open('file1','r') as file:\n",
        "  print(file.read())"
      ],
      "metadata": {
        "id": "NCQHkxc7_5TO"
      },
      "execution_count": null,
      "outputs": []
    },
    {
      "cell_type": "code",
      "source": [
        "#7.2\n",
        "with open('file1','a') as file:\n",
        "  file.write('\\nappended text')\n",
        "with open('file1','r') as file:\n",
        "  print(file.read())"
      ],
      "metadata": {
        "id": "1awJI9DwBN0X"
      },
      "execution_count": null,
      "outputs": []
    },
    {
      "cell_type": "code",
      "source": [
        "#7.3\n",
        "def countlines(filename):\n",
        "  with open(filename,'r') as file:\n",
        "    lines=file.readlines()\n",
        "    return len(lines)\n",
        "numberoflines=countlines('file1')\n",
        "print(numberoflines)"
      ],
      "metadata": {
        "id": "tsy4C8mZBOnQ"
      },
      "execution_count": null,
      "outputs": []
    },
    {
      "cell_type": "code",
      "source": [
        "#Ques 8\n",
        "#8.1\n",
        "def divide(a,b):\n",
        "  try:\n",
        "    return a/b\n",
        "  except:\n",
        "    print('Error: Division by zero')\n",
        "num1=10\n",
        "num2=0\n",
        "result=divide(num1,num2)\n",
        "print(result)"
      ],
      "metadata": {
        "id": "tKtNVdqlCDmj"
      },
      "execution_count": null,
      "outputs": []
    },
    {
      "cell_type": "code",
      "source": [
        "#8.2\n",
        "try:\n",
        "  number=float(input('Enter a number:'))\n",
        "  print('The number is:',number)\n",
        "except:\n",
        "  print('Error: Invalid input')"
      ],
      "metadata": {
        "id": "lOrPj4krDbz_"
      },
      "execution_count": null,
      "outputs": []
    },
    {
      "cell_type": "code",
      "source": [
        "#8.3\n",
        "try:\n",
        "  number=float(input('Enter a number:'))\n",
        "  print('The number is:',number)\n",
        "except:\n",
        "  print('Error: Invalid input')\n",
        "finally:\n",
        "  print('This program is always executed')"
      ],
      "metadata": {
        "id": "Ocj5ruSOEUxo"
      },
      "execution_count": null,
      "outputs": []
    },
    {
      "cell_type": "code",
      "source": [
        "#Ques 9\n",
        "#9.1\n",
        "import random\n",
        "res=[random.randint(1,100) for _ in range(5)]\n",
        "print(res)"
      ],
      "metadata": {
        "id": "6UDhmInwN_Vh"
      },
      "execution_count": null,
      "outputs": []
    },
    {
      "cell_type": "code",
      "source": [
        "#9.2\n",
        "def is_prime(number):\n",
        "    if number <= 1:\n",
        "        return False\n",
        "    for i in range(2, number):\n",
        "        if number % i == 0:\n",
        "            return False\n",
        "    return True\n",
        "random_number = random.randint(1, 100)\n",
        "if is_prime(random_number):\n",
        "    print(f\"The generated number {random_number} is prime.\")\n",
        "else:\n",
        "    print(f\"The generated number {random_number} is not prime.\")"
      ],
      "metadata": {
        "id": "_2eYfkFNngJU"
      },
      "execution_count": null,
      "outputs": []
    },
    {
      "cell_type": "code",
      "source": [
        "#9.3\n",
        "import random\n",
        "res=random.randint(1,6)\n",
        "print(f'You rolled a {res}')"
      ],
      "metadata": {
        "id": "KJbgpz95rfel"
      },
      "execution_count": null,
      "outputs": []
    },
    {
      "cell_type": "code",
      "source": [
        "#9.4\n",
        "import random\n",
        "numbers=[1,2,3,4,5]\n",
        "random.shuffle(numbers)\n",
        "print(numbers)"
      ],
      "metadata": {
        "id": "uBZtIoOEsObJ"
      },
      "execution_count": null,
      "outputs": []
    },
    {
      "cell_type": "code",
      "source": [
        "#9.5\n",
        "import random\n",
        "items=['apple','banana','cherry']\n",
        "res=random.choice(items)\n",
        "print(res)"
      ],
      "metadata": {
        "id": "lo173iuHsmo0"
      },
      "execution_count": null,
      "outputs": []
    },
    {
      "cell_type": "code",
      "source": [
        "#9.6\n",
        "import random\n",
        "import string\n",
        "def generaterandompassword(length):\n",
        "    characters = string.ascii_letters + string.digits + string.punctuation\n",
        "    password = ''.join(random.choice(characters) for _ in range(length))\n",
        "    return password\n",
        "length = 8\n",
        "random_password = generaterandompassword(length)\n",
        "print(f'Generated password: {random_password}')\n"
      ],
      "metadata": {
        "id": "HQSi_sdBs7zm"
      },
      "execution_count": null,
      "outputs": []
    },
    {
      "cell_type": "code",
      "source": [
        "#9.7\n",
        "def pickrandomcard():\n",
        "    ranks = ['2', '3', '4', '5', '6', '7', '8', '9', '10', 'J', 'Q', 'K', 'A']\n",
        "    suits = ['Hearts', 'Diamonds', 'Clubs', 'Spades']\n",
        "    rank = random.choice(ranks)\n",
        "    suit = random.choice(suits)\n",
        "    return f\"{rank} of {suit}\"\n",
        "random_card = pickrandomcard()\n",
        "print(f'The randomly picked card is: {random_card}')"
      ],
      "metadata": {
        "id": "LueHGFsdvJG7"
      },
      "execution_count": null,
      "outputs": []
    },
    {
      "cell_type": "code",
      "source": [
        "#Ques 10\n",
        "#10.1\n",
        "import sys\n",
        "if len(sys.argv) != 3:\n",
        "    print(\"Usage: python script_name.py <number1> <number2>\")\n",
        "    sys.exit(1)\n",
        "try:\n",
        "    number1 = float(sys.argv[1])\n",
        "    number2 = float(sys.argv[2])\n",
        "    result = number1 + number2\n",
        "    print(f'The sum of {number1} and {number2} is {result}')\n",
        "except ValueError:\n",
        "    print('Error: Both arguments must be valid numbers.')"
      ],
      "metadata": {
        "id": "Espyni8_vtUz"
      },
      "execution_count": null,
      "outputs": []
    },
    {
      "cell_type": "code",
      "source": [
        "#10.2\n",
        "import sys\n",
        "if len(sys.argv) != 2:\n",
        "    print('Usage: python script_name.py <string')\n",
        "    sys.exit(1)\n",
        "input_string = sys.argv[1]\n",
        "string_length = len(input_string)\n",
        "print(f'The length of the string '{input_string}' is {string_length}.')"
      ],
      "metadata": {
        "id": "MIBgjc3QwVjm"
      },
      "execution_count": null,
      "outputs": []
    },
    {
      "cell_type": "code",
      "source": [
        "#Ques 11\n",
        "#11.1\n",
        "import math\n",
        "number=16\n",
        "sqrt=math.sqrt(number)\n",
        "print(f'The square root of {number} is {sqrt}')"
      ],
      "metadata": {
        "id": "ki7AL-xRxoOI"
      },
      "execution_count": null,
      "outputs": []
    },
    {
      "cell_type": "code",
      "source": [
        "#11.2\n",
        "from datetime import datetime\n",
        "current_datetime = datetime.now()\n",
        "print(\"Current date and time:\", current_datetime)"
      ],
      "metadata": {
        "id": "xqS6jaHeyndi"
      },
      "execution_count": null,
      "outputs": []
    },
    {
      "cell_type": "code",
      "source": [
        "#11.3\n",
        "import os\n",
        "items = os.listdir('.')\n",
        "files = [item for item in items if os.path.isfile(item)]\n",
        "print(\"Files in the current directory:\")\n",
        "for file in files:\n",
        "    print(file)"
      ],
      "metadata": {
        "id": "SNAwDoQ3y68O"
      },
      "execution_count": null,
      "outputs": []
    },
    {
      "cell_type": "markdown",
      "source": [
        "# Lab 2"
      ],
      "metadata": {
        "id": "6iIyCh3Qfyo4"
      }
    },
    {
      "cell_type": "code",
      "source": [
        "#Question 1\n",
        "\n",
        "L=[10,20,30,40,50,60,70,80]\n",
        "print(L)\n",
        "\n",
        "L.append(200)\n",
        "L.append(300)\n",
        "print(L)\n",
        "\n",
        "L.remove(10)\n",
        "L.remove(30)\n",
        "print(L)\n",
        "\n",
        "L.sort()\n",
        "print(L)\n",
        "\n",
        "L.sort(reverse=True)\n",
        "print(L)"
      ],
      "metadata": {
        "colab": {
          "base_uri": "https://localhost:8080/"
        },
        "id": "MUOAbT-jgNZG",
        "outputId": "7689eed2-35cc-41cc-a791-ddb2bcbed838"
      },
      "execution_count": 14,
      "outputs": [
        {
          "output_type": "stream",
          "name": "stdout",
          "text": [
            "[10, 20, 30, 40, 50, 60, 70, 80]\n",
            "[10, 20, 30, 40, 50, 60, 70, 80, 200, 300]\n",
            "[20, 40, 50, 60, 70, 80, 200, 300]\n",
            "[20, 40, 50, 60, 70, 80, 200, 300]\n",
            "[300, 200, 80, 70, 60, 50, 40, 20]\n"
          ]
        }
      ]
    },
    {
      "cell_type": "code",
      "source": [
        "#Question 2\n",
        "\n",
        "scores=(45,89.5,76,45.4,89,92,58,45)\n",
        "print(scores)\n",
        "\n",
        "highestscore = max(scores)\n",
        "highestscoreindex = scores.index(highestscore)\n",
        "print(\"Highest score:\", highestscore)\n",
        "print(\"Index of highest score:\", highestscoreindex)\n",
        "\n",
        "lowestscore = min(scores)\n",
        "lowestscorecount = scores.count(lowestscore)\n",
        "print(\"Lowest score:\", lowestscore)\n",
        "print(\"Number of times lowest score occurred:\", lowestscorecount)\n",
        "\n",
        "tupletolists = list(scores[::-1])\n",
        "print(tupletolists)\n",
        "\n",
        "userinput = 76\n",
        "if userinput in scores:\n",
        "    firstoccurrenceindex = scores.index(userinput)\n",
        "    message = f\"The score {userinput} is present at index {firstoccurrenceindex}.\"\n",
        "else:\n",
        "    message = f\"The score {userinput} is not present in the tuple.\"\n",
        "print(message)"
      ],
      "metadata": {
        "colab": {
          "base_uri": "https://localhost:8080/"
        },
        "id": "8WUUew7umQT8",
        "outputId": "6eda6967-d11c-4056-fdf2-8c3310f1ff3f"
      },
      "execution_count": 20,
      "outputs": [
        {
          "output_type": "stream",
          "name": "stdout",
          "text": [
            "(45, 89.5, 76, 45.4, 89, 92, 58, 45)\n",
            "Highest score: 92\n",
            "Index of highest score: 5\n",
            "Lowest score: 45\n",
            "Number of times lowest score occurred: 2\n",
            "[45, 58, 92, 89, 45.4, 76, 89.5, 45]\n",
            "The score 76 is present at index 2.\n"
          ]
        }
      ]
    },
    {
      "cell_type": "code",
      "source": [
        "#Question 3\n",
        "\n",
        "import random\n",
        "\n",
        "def is_prime(num):\n",
        "    if num < 2:\n",
        "        return False\n",
        "    for i in range(2, int(num ** 0.5) + 1):\n",
        "        if num % i == 0:\n",
        "            return False\n",
        "    return True\n",
        "\n",
        "random_numbers = [random.randint(100, 900) for i in range(100)]\n",
        "\n",
        "odd_numbers = [num for num in random_numbers if num % 2 != 0]\n",
        "even_numbers = [num for num in random_numbers if num % 2 == 0]\n",
        "prime_numbers = [num for num in random_numbers if is_prime(num)]\n",
        "\n",
        "print(\"Original List of Random Numbers:\", random_numbers)\n",
        "print(\"\\nCount of Odd Numbers:\", len(odd_numbers))\n",
        "print(\"Odd Numbers:\", odd_numbers)\n",
        "print(\"\\nCount of Even Numbers:\", len(even_numbers))\n",
        "print(\"Even Numbers:\", even_numbers)\n",
        "print(\"\\nCount of Prime Numbers:\", len(prime_numbers))\n",
        "print(\"Prime Numbers:\", prime_numbers)\n"
      ],
      "metadata": {
        "colab": {
          "base_uri": "https://localhost:8080/"
        },
        "id": "_wflNRSjpKdJ",
        "outputId": "b3ef5152-bbaa-4c03-b4b5-1e7e4bcea846"
      },
      "execution_count": 24,
      "outputs": [
        {
          "output_type": "stream",
          "name": "stdout",
          "text": [
            "Original List of Random Numbers: [206, 516, 836, 261, 837, 545, 602, 311, 763, 202, 374, 322, 179, 180, 382, 720, 375, 767, 554, 289, 898, 790, 281, 785, 438, 625, 207, 701, 802, 801, 539, 627, 726, 242, 243, 798, 683, 211, 464, 262, 722, 451, 677, 737, 152, 826, 876, 144, 509, 244, 647, 837, 418, 656, 257, 702, 716, 583, 366, 393, 681, 191, 257, 650, 198, 275, 405, 239, 106, 845, 157, 840, 407, 113, 520, 460, 490, 276, 698, 899, 529, 103, 369, 812, 844, 392, 479, 702, 880, 657, 717, 818, 147, 415, 363, 558, 670, 883, 285, 746]\n",
            "\n",
            "Count of Odd Numbers: 51\n",
            "Odd Numbers: [261, 837, 545, 311, 763, 179, 375, 767, 289, 281, 785, 625, 207, 701, 801, 539, 627, 243, 683, 211, 451, 677, 737, 509, 647, 837, 257, 583, 393, 681, 191, 257, 275, 405, 239, 845, 157, 407, 113, 899, 529, 103, 369, 479, 657, 717, 147, 415, 363, 883, 285]\n",
            "\n",
            "Count of Even Numbers: 49\n",
            "Even Numbers: [206, 516, 836, 602, 202, 374, 322, 180, 382, 720, 554, 898, 790, 438, 802, 726, 242, 798, 464, 262, 722, 152, 826, 876, 144, 244, 418, 656, 702, 716, 366, 650, 198, 106, 840, 520, 460, 490, 276, 698, 812, 844, 392, 702, 880, 818, 558, 670, 746]\n",
            "\n",
            "Count of Prime Numbers: 18\n",
            "Prime Numbers: [311, 179, 281, 701, 683, 211, 677, 509, 647, 257, 191, 257, 239, 157, 113, 103, 479, 883]\n"
          ]
        }
      ]
    },
    {
      "cell_type": "code",
      "source": [
        "#Question 4\n",
        "\n",
        "A = {34, 56, 78, 90}\n",
        "B = {78, 45, 90, 23}\n",
        "\n",
        "unique_scores = A.union(B)\n",
        "print(\"Unique scores (union):\", unique_scores)\n",
        "\n",
        "common_scores = A.intersection(B)\n",
        "print(\"Common scores (intersection):\", common_scores)\n",
        "\n",
        "exclusive_scores = A.symmetric_difference(B)\n",
        "print(\"Exclusive scores (symmetric difference):\", exclusive_scores)\n",
        "\n",
        "issubsetofB = A.issubset(B)\n",
        "issubsetofB = B.issuperset(A)\n",
        "print(f\"Is A a subset of B? {issubsetofB}\")\n",
        "print(f\"Is B a superset of A? {issubsetofB}\")\n",
        "\n",
        "X = int(input(\"Enter a score to remove from set A: \"))\n",
        "if X in A:\n",
        "    A.remove(X)\n",
        "    removal_message = f\"Score {X} has been removed from set A.\"\n",
        "else:\n",
        "    removal_message = f\"Score {X} is not present in set A.\"\n",
        "print(removal_message)\n",
        "print(\"Updated set A:\", A)\n"
      ],
      "metadata": {
        "colab": {
          "base_uri": "https://localhost:8080/"
        },
        "id": "tBZgQFLHu5BP",
        "outputId": "b39be7fd-5ae3-443e-d0c7-c5d252509d24"
      },
      "execution_count": 25,
      "outputs": [
        {
          "output_type": "stream",
          "name": "stdout",
          "text": [
            "Unique scores (union): {34, 45, 78, 23, 56, 90}\n",
            "Common scores (intersection): {90, 78}\n",
            "Exclusive scores (symmetric difference): {34, 45, 23, 56}\n",
            "Is A a subset of B? False\n",
            "Is B a superset of A? False\n",
            "Enter a score to remove from set A: 34\n",
            "Score 34 has been removed from set A.\n",
            "Updated set A: {56, 90, 78}\n"
          ]
        }
      ]
    },
    {
      "cell_type": "code",
      "source": [
        "# Question 5\n",
        "\n",
        "sample_dict = {\n",
        "    \"name\": \"Kelly\",\n",
        "    \"age\": 25,\n",
        "    \"salary\": 8000,\n",
        "    \"city\": \"New york\"\n",
        "}\n",
        "\n",
        "#sample_dict[\"location\"] = sample_dict.pop(\"city\")\n",
        "sample_dict[\"location\"] = sample_dict[\"city\"]\n",
        "del sample_dict[\"city\"]\n",
        "print(sample_dict)"
      ],
      "metadata": {
        "colab": {
          "base_uri": "https://localhost:8080/"
        },
        "id": "g8zKjORE0fui",
        "outputId": "a0e5fdf2-3f18-4f1a-bb2e-1ddddb724fe5"
      },
      "execution_count": 27,
      "outputs": [
        {
          "output_type": "stream",
          "name": "stdout",
          "text": [
            "{'name': 'Kelly', 'age': 25, 'salary': 8000, 'location': 'New york'}\n"
          ]
        }
      ]
    }
  ]
}
{
  "cells": [
    {
      "cell_type": "code",
      "execution_count": 16,
      "metadata": {
        "colab": {
          "base_uri": "https://localhost:8080/"
        },
        "id": "MDHlfVt3Bcpx",
        "outputId": "dde5eec8-3859-4191-e2b7-cc84819f39ee"
      },
      "outputs": [
        {
          "name": "stderr",
          "output_type": "stream",
          "text": [
            "[nltk_data] Downloading package punkt to /root/nltk_data...\n",
            "[nltk_data]   Package punkt is already up-to-date!\n",
            "[nltk_data] Downloading package stopwords to /root/nltk_data...\n",
            "[nltk_data]   Package stopwords is already up-to-date!\n",
            "[nltk_data] Downloading package wordnet to /root/nltk_data...\n",
            "[nltk_data]   Package wordnet is already up-to-date!\n"
          ]
        },
        {
          "data": {
            "text/plain": [
              "True"
            ]
          },
          "execution_count": 16,
          "metadata": {},
          "output_type": "execute_result"
        }
      ],
      "source": [
        "import nltk\n",
        "import re\n",
        "from nltk.tokenize import word_tokenize, sent_tokenize\n",
        "from nltk.corpus import stopwords\n",
        "from nltk.stem import PorterStemmer, LancasterStemmer, WordNetLemmatizer\n",
        "import matplotlib.pyplot as plt\n",
        "\n",
        "nltk.download('punkt')\n",
        "nltk.download('stopwords')\n",
        "nltk.download('wordnet')"
      ]
    },
    {
      "cell_type": "code",
      "execution_count": 17,
      "metadata": {
        "colab": {
          "base_uri": "https://localhost:8080/"
        },
        "id": "wqLfKuvLCCfZ",
        "outputId": "52eaafd1-90c7-4e2f-a4e3-90236d02f1d4"
      },
      "outputs": [
        {
          "name": "stdout",
          "output_type": "stream",
          "text": [
            "Clean Paragraph:\n",
            " cricket is a batandball game played between two teams of eleven players each \n",
            "it is a game rich in tradition and filled with excitement where teams compete to outscore each other \n",
            "great players like virat kohli sachin tendulkar and ms dhoni have become legends \n",
            "fans enjoy thrilling moments unforgettable centuries and historic victories\n"
          ]
        }
      ],
      "source": [
        "paragraph = \"\"\"Cricket is a bat-and-ball game played between two teams of eleven players each.\n",
        "It is a game rich in tradition and filled with excitement, where teams compete to outscore each other.\n",
        "Great players like Virat Kohli, Sachin Tendulkar, and M.S. Dhoni have become legends.\n",
        "Fans enjoy thrilling moments, unforgettable centuries, and historic victories.\"\"\"\n",
        "\n",
        "# 1-1\n",
        "paragraph_lower = paragraph.lower()\n",
        "paragraph_clean = re.sub(r'[^\\w\\s]', '', paragraph_lower)\n",
        "print(\"Clean Paragraph:\\n\", paragraph_clean)"
      ]
    },
    {
      "cell_type": "code",
      "execution_count": 18,
      "metadata": {
        "colab": {
          "base_uri": "https://localhost:8080/"
        },
        "id": "FlZGmKx_CPDl",
        "outputId": "b77b1c1e-e7f5-4877-ddc3-0d13c20e2170"
      },
      "outputs": [
        {
          "name": "stdout",
          "output_type": "stream",
          "text": [
            "\n",
            "Words using word_tokenize(): ['cricket', 'is', 'a', 'batandball', 'game', 'played', 'between', 'two', 'teams', 'of', 'eleven', 'players', 'each', 'it', 'is', 'a', 'game', 'rich', 'in', 'tradition', 'and', 'filled', 'with', 'excitement', 'where', 'teams', 'compete', 'to', 'outscore', 'each', 'other', 'great', 'players', 'like', 'virat', 'kohli', 'sachin', 'tendulkar', 'and', 'ms', 'dhoni', 'have', 'become', 'legends', 'fans', 'enjoy', 'thrilling', 'moments', 'unforgettable', 'centuries', 'and', 'historic', 'victories']\n",
            "\n",
            "Sentences: ['Cricket is a bat-and-ball game played between two teams of eleven players each.', 'It is a game rich in tradition and filled with excitement, where teams compete to outscore each other.', 'Great players like Virat Kohli, Sachin Tendulkar, and M.S.', 'Dhoni have become legends.', 'Fans enjoy thrilling moments, unforgettable centuries, and historic victories.']\n"
          ]
        },
        {
          "name": "stderr",
          "output_type": "stream",
          "text": [
            "[nltk_data] Downloading package punkt_tab to /root/nltk_data...\n",
            "[nltk_data]   Package punkt_tab is already up-to-date!\n"
          ]
        }
      ],
      "source": [
        "# 1-2\n",
        "nltk.download('punkt_tab')\n",
        "words_tokenized = word_tokenize(paragraph_clean)\n",
        "sentences_tokenized = sent_tokenize(paragraph)\n",
        "\n",
        "print(\"\\nWords using word_tokenize():\", words_tokenized)\n",
        "print(\"\\nSentences:\", sentences_tokenized)"
      ]
    },
    {
      "cell_type": "code",
      "execution_count": 19,
      "metadata": {
        "colab": {
          "base_uri": "https://localhost:8080/"
        },
        "id": "O7XNKOxoCQW7",
        "outputId": "f049e177-348e-448d-c3f3-2a90d7bdf5d6"
      },
      "outputs": [
        {
          "name": "stdout",
          "output_type": "stream",
          "text": [
            "\n",
            "Filtered Words: ['cricket', 'batandball', 'game', 'played', 'two', 'teams', 'eleven', 'players', 'game', 'rich', 'tradition', 'filled', 'excitement', 'teams', 'compete', 'outscore', 'great', 'players', 'like', 'virat', 'kohli', 'sachin', 'tendulkar', 'ms', 'dhoni', 'become', 'legends', 'fans', 'enjoy', 'thrilling', 'moments', 'unforgettable', 'centuries', 'historic', 'victories']\n"
          ]
        }
      ],
      "source": [
        "# 1-3\n",
        "stop_words = set(stopwords.words('english'))\n",
        "filtered_words = [w for w in words_tokenized if w not in stop_words]\n",
        "print(\"\\nFiltered Words:\", filtered_words)"
      ]
    },
    {
      "cell_type": "code",
      "execution_count": 20,
      "metadata": {
        "colab": {
          "base_uri": "https://localhost:8080/",
          "height": 1000
        },
        "id": "-4FD2SiFCRZ0",
        "outputId": "c2b78b92-a18e-4ca2-d3e3-e299da99ba71"
      },
      "outputs": [
        {
          "name": "stdout",
          "output_type": "stream",
          "text": [
            "\n",
            "Word Frequencies:\n",
            "cricket: 1\n",
            "batandball: 1\n",
            "game: 2\n",
            "played: 1\n",
            "two: 1\n",
            "teams: 2\n",
            "eleven: 1\n",
            "players: 2\n",
            "rich: 1\n",
            "tradition: 1\n",
            "filled: 1\n",
            "excitement: 1\n",
            "compete: 1\n",
            "outscore: 1\n",
            "great: 1\n",
            "like: 1\n",
            "virat: 1\n",
            "kohli: 1\n",
            "sachin: 1\n",
            "tendulkar: 1\n",
            "ms: 1\n",
            "dhoni: 1\n",
            "become: 1\n",
            "legends: 1\n",
            "fans: 1\n",
            "enjoy: 1\n",
            "thrilling: 1\n",
            "moments: 1\n",
            "unforgettable: 1\n",
            "centuries: 1\n",
            "historic: 1\n",
            "victories: 1\n"
          ]
        },
        {
          "data": {
            "text/plain": [
              "<Axes: xlabel='Samples', ylabel='Counts'>"
            ]
          },
          "execution_count": 20,
          "metadata": {},
          "output_type": "execute_result"
        },
        {
          "data": {
            "image/png": "[encoded data removed]",
            "text/plain": [
              "<Figure size 640x480 with 1 Axes>"
            ]
          },
          "metadata": {},
          "output_type": "display_data"
        }
      ],
      "source": [
        "# 1-4\n",
        "fdist = nltk.FreqDist(filtered_words)\n",
        "print(\"\\nWord Frequencies:\")\n",
        "for word, freq in fdist.items():\n",
        "    print(f\"{word}: {freq}\")\n",
        "\n",
        "fdist.plot(20)"
      ]
    },
    {
      "cell_type": "code",
      "execution_count": 21,
      "metadata": {
        "colab": {
          "base_uri": "https://localhost:8080/"
        },
        "id": "ptE4DGIUBkbv",
        "outputId": "ab326d43-5d01-4074-96b7-4b60ffca532e"
      },
      "outputs": [
        {
          "name": "stdout",
          "output_type": "stream",
          "text": [
            "\n",
            "Porter Stemmed Words: ['cricket', 'batandbal', 'game', 'play', 'two', 'team', 'eleven', 'player', 'game', 'rich', 'tradit', 'fill', 'excit', 'team', 'compet', 'outscor', 'great', 'player', 'like', 'virat', 'kohli', 'sachin', 'tendulkar', 'ms', 'dhoni', 'becom', 'legend', 'fan', 'enjoy', 'thrill', 'moment', 'unforgett', 'centuri', 'histor', 'victori']\n",
            "\n",
            "Lancaster Stemmed Words: ['cricket', 'batandbal', 'gam', 'play', 'two', 'team', 'elev', 'play', 'gam', 'rich', 'tradit', 'fil', 'excit', 'team', 'compet', 'outsc', 'gre', 'play', 'lik', 'vir', 'kohl', 'sachin', 'tendulk', 'ms', 'dhon', 'becom', 'legend', 'fan', 'enjoy', 'thrilling', 'mom', 'unforget', 'century', 'hist', 'vict']\n",
            "\n",
            "Lemmatized Words: ['cricket', 'batandball', 'game', 'played', 'two', 'team', 'eleven', 'player', 'game', 'rich', 'tradition', 'filled', 'excitement', 'team', 'compete', 'outscore', 'great', 'player', 'like', 'virat', 'kohli', 'sachin', 'tendulkar', 'm', 'dhoni', 'become', 'legend', 'fan', 'enjoy', 'thrilling', 'moment', 'unforgettable', 'century', 'historic', 'victory']\n"
          ]
        }
      ],
      "source": [
        "# 2\n",
        "porter = PorterStemmer()\n",
        "lancaster = LancasterStemmer()\n",
        "lemmatizer = WordNetLemmatizer()\n",
        "\n",
        "# Stemming\n",
        "porter_stemmed = [porter.stem(word) for word in filtered_words]\n",
        "lancaster_stemmed = [lancaster.stem(word) for word in filtered_words]\n",
        "\n",
        "# Lemmatization\n",
        "lemmatized = [lemmatizer.lemmatize(word) for word in filtered_words]\n",
        "\n",
        "print(\"\\nPorter Stemmed Words:\", porter_stemmed)\n",
        "print(\"\\nLancaster Stemmed Words:\", lancaster_stemmed)\n",
        "print(\"\\nLemmatized Words:\", lemmatized)"
      ]
    },
    {
      "cell_type": "code",
      "execution_count": 22,
      "metadata": {
        "colab": {
          "base_uri": "https://localhost:8080/"
        },
        "id": "FMpRIiBqBlKF",
        "outputId": "4a254338-399c-4c89-eae1-0bedfe25702d"
      },
      "outputs": [
        {
          "name": "stdout",
          "output_type": "stream",
          "text": [
            "\n",
            "Words with more than 5 letters: ['Cricket', 'played', 'between', 'eleven', 'players', 'tradition', 'filled', 'excitement', 'compete', 'outscore', 'players', 'Sachin', 'Tendulkar', 'become', 'legends', 'thrilling', 'moments', 'unforgettable', 'centuries', 'historic', 'victories']\n",
            "\n",
            "Numbers found: []\n",
            "\n",
            "Capitalized words: ['Cricket', 'It', 'Great', 'Virat', 'Kohli', 'Sachin', 'Tendulkar', 'Dhoni', 'Fans']\n",
            "\n",
            "Only alphabet words: ['Cricket', 'is', 'a', 'bat', 'and', 'ball', 'game', 'played', 'between', 'two', 'teams', 'of', 'eleven', 'players', 'each', 'It', 'is', 'a', 'game', 'rich', 'in', 'tradition', 'and', 'filled', 'with', 'excitement', 'where', 'teams', 'compete', 'to', 'outscore', 'each', 'other', 'Great', 'players', 'like', 'Virat', 'Kohli', 'Sachin', 'Tendulkar', 'and', 'M', 'S', 'Dhoni', 'have', 'become', 'legends', 'Fans', 'enjoy', 'thrilling', 'moments', 'unforgettable', 'centuries', 'and', 'historic', 'victories']\n",
            "\n",
            "Words starting with vowels: ['is', 'a', 'and', 'of', 'eleven', 'each', 'is', 'a', 'in', 'and', 'excitement', 'outscore', 'each', 'other', 'and', 'enjoy', 'unforgettable', 'and']\n"
          ]
        }
      ],
      "source": [
        "# 3\n",
        "long_words = re.findall(r'\\b\\w{6,}\\b', paragraph)\n",
        "print(\"\\nWords with more than 5 letters:\", long_words)\n",
        "\n",
        "numbers = re.findall(r'\\b\\d+\\b', paragraph)\n",
        "print(\"\\nNumbers found:\", numbers)\n",
        "\n",
        "capitalized_words = re.findall(r'\\b[A-Z][a-z]+\\b', paragraph)\n",
        "print(\"\\nCapitalized words:\", capitalized_words)\n",
        "\n",
        "only_alpha_words = re.findall(r'\\b[a-zA-Z]+\\b', paragraph)\n",
        "print(\"\\nOnly alphabet words:\", only_alpha_words)\n",
        "\n",
        "vowel_words = [word for word in only_alpha_words if word[0] in 'aeiou']\n",
        "print(\"\\nWords starting with vowels:\", vowel_words)\n"
      ]
    },
    {
      "cell_type": "code",
      "execution_count": null,
      "metadata": {
        "colab": {
          "base_uri": "https://localhost:8080/"
        },
        "id": "fBn3oLisBmmB",
        "outputId": "1e2bd033-9873-49f7-8afa-76653d4494dc"
      },
      "outputs": [
        {
          "name": "stdout",
          "output_type": "stream",
          "text": [
            "\n",
            "Custom Tokens: ['Cricket', 'is', 'a', 'bat-and-ball', 'game', 'played', 'between', 'two', 'teams', 'of', 'eleven', 'players', 'each', 'It', 'is', 'a', 'game', 'rich', 'in', 'tradition', 'and', 'filled', 'with', 'excitement', 'where', 'teams', 'compete', 'to', 'outscore', 'each', 'other', 'Great', 'players', 'like', 'Virat', 'Kohli', 'Sachin', 'Tendulkar', 'and', 'M', 'S', 'Dhoni', 'have', 'become', 'legends', 'Fans', 'enjoy', 'thrilling', 'moments', 'unforgettable', 'centuries', 'and', 'historic', 'victories']\n",
            "\n",
            "Text after cleaning: Contact me at <EMAIL> or visit <URL> Call <PHONE>.\n"
          ]
        }
      ],
      "source": [
        "# 4\n",
        "def custom_tokenizer(text):\n",
        "    text = re.sub(r'[^\\w\\s\\'\\-\\.]', '', text)\n",
        "    tokens = re.findall(r'\\b\\w[\\w\\-\\']*\\b', text)\n",
        "    return tokens\n",
        "\n",
        "custom_tokens = custom_tokenizer(paragraph)\n",
        "print(\"\\nCustom Tokens:\", custom_tokens)\n",
        "\n",
        "sample_text = \"Contact me at akshanshvij@gmail.com or visit https://abc.com. Call +91 7528810999.\"\n",
        "\n",
        "email_sub = re.sub(r'\\S+@\\S+', '<EMAIL>', sample_text)\n",
        "url_sub = re.sub(r'http\\S+', '<URL>', email_sub)\n",
        "phone_sub = re.sub(r'(\\+?\\d{1,3}\\s?\\d{10})|(\\d{3}\\-\\d{3}\\-\\d{4})', '<PHONE>', url_sub)\n",
        "\n",
        "print(\"\\nText after cleaning:\", phone_sub)"
      ]
    }
  ],
  "metadata": {
    "colab": {
      "provenance": []
    },
    "kernelspec": {
      "display_name": "Python 3",
      "name": "python3"
    },
    "language_info": {
      "name": "python"
    }
  },
  "nbformat": 4,
  "nbformat_minor": 0
}

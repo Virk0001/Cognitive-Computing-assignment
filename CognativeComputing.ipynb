{
  "nbformat": 4,
  "nbformat_minor": 0,
  "metadata": {
    "colab": {
      "provenance": []
    },
    "kernelspec": {
      "name": "python3",
      "display_name": "Python 3"
    },
    "language_info": {
      "name": "python"
    }
  },
  "cells": [
    {
      "cell_type": "markdown",
      "source": [
        "# Lab 1"
      ],
      "metadata": {
        "id": "dZJAr8b8i7vY"
      }
    },
    {
      "cell_type": "code",
      "execution_count": 5,
      "metadata": {
        "colab": {
          "base_uri": "https://localhost:8080/"
        },
        "id": "nTK4IyN9ZzPy",
        "outputId": "b81ce554-c261-415f-f7bc-50e1a6817fec"
      },
      "outputs": [
        {
          "output_type": "stream",
          "name": "stdout",
          "text": [
            "Cognative Computing\n"
          ]
        }
      ],
      "source": [
        "#Question 1\n",
        "print('Cognative Computing')"
      ]
    },
    {
      "cell_type": "code",
      "source": [
        "#Question 2\n",
        "#2.1\n",
        "a=5\n",
        "b=6\n",
        "print(a+b)"
      ],
      "metadata": {
        "colab": {
          "base_uri": "https://localhost:8080/"
        },
        "id": "iajprHcLaS8W",
        "outputId": "70b6ffa4-1f86-40ad-951c-e2d66124d6f4"
      },
      "execution_count": 1,
      "outputs": [
        {
          "output_type": "stream",
          "name": "stdout",
          "text": [
            "11\n"
          ]
        }
      ]
    },
    {
      "cell_type": "code",
      "source": [
        "#2.2\n",
        "a='Gursher'\n",
        "b='Singh'\n",
        "print(a+' '+b)"
      ],
      "metadata": {
        "colab": {
          "base_uri": "https://localhost:8080/"
        },
        "id": "vD25otpnakz7",
        "outputId": "6f3c5d94-9336-4706-de1e-00a8859de119"
      },
      "execution_count": 2,
      "outputs": [
        {
          "output_type": "stream",
          "name": "stdout",
          "text": [
            "Gursher Singh\n"
          ]
        }
      ]
    },
    {
      "cell_type": "code",
      "source": [
        "#2.3\n",
        "a='Gursher'\n",
        "b=100\n",
        "res=a+str(b)\n",
        "print(res)"
      ],
      "metadata": {
        "colab": {
          "base_uri": "https://localhost:8080/"
        },
        "id": "gmwnukLebXGK",
        "outputId": "28be61bd-86c2-4731-8177-2b1ac59edf6c"
      },
      "execution_count": 3,
      "outputs": [
        {
          "output_type": "stream",
          "name": "stdout",
          "text": [
            "Gursher100\n"
          ]
        }
      ]
    },
    {
      "cell_type": "code",
      "source": [
        "#Question 3\n",
        "#3.1\n",
        "num=input('Enter a number:')\n",
        "if int(num)>0:\n",
        "    print('Number is positive')\n",
        "elif int(num)==0:\n",
        "    print('Number is zero')\n",
        "else:\n",
        "    print('Number is negative')"
      ],
      "metadata": {
        "id": "fbPkgsZccGpi",
        "colab": {
          "base_uri": "https://localhost:8080/"
        },
        "outputId": "cd2b12c8-8bd6-435c-bfd4-523fd243d2cf"
      },
      "execution_count": 10,
      "outputs": [
        {
          "output_type": "stream",
          "name": "stdout",
          "text": [
            "Enter a number:-3\n",
            "Number is negative\n"
          ]
        }
      ]
    },
    {
      "cell_type": "code",
      "source": [
        "#3.2\n",
        "num=input('Enter a number:')\n",
        "if int(num)%2==0:\n",
        "  print('Number is even')\n",
        "else:\n",
        "  print('Number is odd')"
      ],
      "metadata": {
        "colab": {
          "base_uri": "https://localhost:8080/"
        },
        "id": "bz9LrqU5i_DM",
        "outputId": "b5ae702d-3921-4e2c-dadf-03ffa987c837"
      },
      "execution_count": 11,
      "outputs": [
        {
          "output_type": "stream",
          "name": "stdout",
          "text": [
            "Enter a number:4\n",
            "Number is even\n"
          ]
        }
      ]
    },
    {
      "cell_type": "code",
      "source": [
        "#Question 4\n",
        "#4.1\n",
        "for i in range(1,11):\n",
        "  print(i)"
      ],
      "metadata": {
        "colab": {
          "base_uri": "https://localhost:8080/"
        },
        "id": "_sQRvftfkhl6",
        "outputId": "f2b90c73-776e-4c16-f5e8-8df673998a3a"
      },
      "execution_count": 18,
      "outputs": [
        {
          "output_type": "stream",
          "name": "stdout",
          "text": [
            "1\n",
            "2\n",
            "3\n",
            "4\n",
            "5\n",
            "6\n",
            "7\n",
            "8\n",
            "9\n",
            "10\n"
          ]
        }
      ]
    },
    {
      "cell_type": "code",
      "source": [
        "#4.2\n",
        "i=1\n",
        "while i<=10:\n",
        "  print(i)\n",
        "  i+=1"
      ],
      "metadata": {
        "colab": {
          "base_uri": "https://localhost:8080/"
        },
        "id": "ZKNsEABAlBau",
        "outputId": "4665e4ab-4438-49d0-a964-8ee61ed2188a"
      },
      "execution_count": 30,
      "outputs": [
        {
          "output_type": "stream",
          "name": "stdout",
          "text": [
            "1\n",
            "2\n",
            "3\n",
            "4\n",
            "5\n",
            "6\n",
            "7\n",
            "8\n",
            "9\n",
            "10\n"
          ]
        }
      ]
    },
    {
      "cell_type": "code",
      "source": [
        "#4.3\n",
        "sum=0\n",
        "for i in range(1,101):\n",
        "  sum=sum+i\n",
        "print(sum)"
      ],
      "metadata": {
        "colab": {
          "base_uri": "https://localhost:8080/"
        },
        "id": "onoIRZJMm8jr",
        "outputId": "48240560-b7af-43bd-fdf7-4dca9dda2f74"
      },
      "execution_count": 26,
      "outputs": [
        {
          "output_type": "stream",
          "name": "stdout",
          "text": [
            "5050\n"
          ]
        }
      ]
    },
    {
      "cell_type": "code",
      "source": [
        "#Question 5\n",
        "#5.1\n",
        "numbers=[3,1,4,5,1]\n",
        "largest=numbers[0]\n",
        "smallest=numbers[0]\n",
        "for i in numbers:\n",
        "  if i>largest:\n",
        "    largest=i\n",
        "  if i<smallest:\n",
        "    smallest=i\n",
        "print('Largest number:',largest)\n",
        "print('Smallest number:',smallest)"
      ],
      "metadata": {
        "colab": {
          "base_uri": "https://localhost:8080/"
        },
        "id": "pXKUmCJvnw6g",
        "outputId": "6b4e50d9-401d-4325-f161-d10fce85858f"
      },
      "execution_count": 5,
      "outputs": [
        {
          "output_type": "stream",
          "name": "stdout",
          "text": [
            "Largest number: 5\n",
            "Smallest number: 1\n"
          ]
        }
      ]
    },
    {
      "cell_type": "code",
      "source": [
        "#5.2\n",
        "my_dict={\n",
        "    'name':'Gursher',\n",
        "    'age':19,\n",
        "    'city':'Patiala'\n",
        "}\n",
        "key=input('Enter a key:')\n",
        "print(my_dict[key])"
      ],
      "metadata": {
        "colab": {
          "base_uri": "https://localhost:8080/"
        },
        "id": "u6h08IEjdjYL",
        "outputId": "69bbddfc-7f2e-4e34-ebdf-d5530b9685d2"
      },
      "execution_count": 6,
      "outputs": [
        {
          "output_type": "stream",
          "name": "stdout",
          "text": [
            "Enter a key:name\n",
            "Gursher\n"
          ]
        }
      ]
    },
    {
      "cell_type": "code",
      "source": [
        "#5.3\n",
        "numbers=[3,2,1,4,5]\n",
        "numbers.sort()\n",
        "print('Ascending order is',numbers)\n",
        "numbers.reverse()\n",
        "print('Descending order is',numbers)"
      ],
      "metadata": {
        "colab": {
          "base_uri": "https://localhost:8080/"
        },
        "id": "0PG3C74Fxrbx",
        "outputId": "6fb0b518-4960-4c6a-a8d1-d1e69ca0943a"
      },
      "execution_count": 9,
      "outputs": [
        {
          "output_type": "stream",
          "name": "stdout",
          "text": [
            "Ascending order is [1, 2, 3, 4, 5]\n",
            "Descending order is [5, 4, 3, 2, 1]\n"
          ]
        }
      ]
    },
    {
      "cell_type": "code",
      "source": [
        "#5.4\n",
        "dict1={\n",
        "    'name':'Gursher'\n",
        "}\n",
        "dict2={\n",
        "    'age':19\n",
        "}\n",
        "merged_dict=dict1|dict2\n",
        "print(merged_dict)"
      ],
      "metadata": {
        "colab": {
          "base_uri": "https://localhost:8080/"
        },
        "id": "IfINZTNMyfP9",
        "outputId": "af5df6b3-418b-41bf-bf38-66f1c133d3a7"
      },
      "execution_count": 14,
      "outputs": [
        {
          "output_type": "stream",
          "name": "stdout",
          "text": [
            "{'name': 'Gursher', 'age': 19}\n"
          ]
        }
      ]
    },
    {
      "cell_type": "code",
      "source": [
        "#Question 5\n",
        "#6.1\n",
        "def count_vowels(string):\n",
        "  vowels='aeiouAEIOU'\n",
        "  count=0\n",
        "  for i in string:\n",
        "    if i in vowels:\n",
        "      count+=1\n",
        "  return count\n",
        "number=input('Enter a string:')\n",
        "vowel_count=count_vowels(number)\n",
        "print('The number of vowels in the string is:',vowel_count)"
      ],
      "metadata": {
        "colab": {
          "base_uri": "https://localhost:8080/"
        },
        "id": "B_qm-rjN0208",
        "outputId": "8cda24eb-0f2f-480d-c4b5-b6d707eb2159"
      },
      "execution_count": 16,
      "outputs": [
        {
          "output_type": "stream",
          "name": "stdout",
          "text": [
            "Enter a string:hnji ki haal chaal\n",
            "The number of vowels in the string is: 6\n"
          ]
        }
      ]
    },
    {
      "cell_type": "code",
      "source": [
        "#6.2\n",
        "def reverse_string(string):\n",
        "  return string[::-1]\n",
        "number=input('Enter a string:')\n",
        "result=reverse_string(number)\n",
        "print('The reversed string is:',result)"
      ],
      "metadata": {
        "colab": {
          "base_uri": "https://localhost:8080/"
        },
        "id": "a3J73g8A4s9o",
        "outputId": "98cdba42-0780-48ca-8b42-a83654fe82fa"
      },
      "execution_count": 22,
      "outputs": [
        {
          "output_type": "stream",
          "name": "stdout",
          "text": [
            "Enter a string:qwertyuiop\n",
            "The reversed string is: poiuytrewq\n"
          ]
        }
      ]
    },
    {
      "cell_type": "code",
      "source": [
        "#6.3\n",
        "def is_palindrome(string):\n",
        "    res = ''.join(string.split()).lower()\n",
        "    return res == res[::-1]\n",
        "word = input(\"Enter a string: \")\n",
        "if is_palindrome(word):\n",
        "    print(word,' is a palindrome')\n",
        "else:\n",
        "    print(word,' is not a palindrome')\n"
      ],
      "metadata": {
        "colab": {
          "base_uri": "https://localhost:8080/"
        },
        "id": "SR7M8P805vQz",
        "outputId": "6251f190-2ab6-43a6-d0e2-c4e8550d19b0"
      },
      "execution_count": 17,
      "outputs": [
        {
          "output_type": "stream",
          "name": "stdout",
          "text": [
            "Enter a string: sos\n",
            "sos  is a palindrome\n"
          ]
        }
      ]
    },
    {
      "cell_type": "code",
      "source": [
        "#Ques 7\n",
        "#7.1\n",
        "with open('file1','w') as file:\n",
        "  file.write('Hello World')\n",
        "with open('file1','r') as file:\n",
        "  print(file.read())"
      ],
      "metadata": {
        "colab": {
          "base_uri": "https://localhost:8080/"
        },
        "id": "NCQHkxc7_5TO",
        "outputId": "f03751a5-d0c4-4952-b113-57aeccafceb4"
      },
      "execution_count": 29,
      "outputs": [
        {
          "output_type": "stream",
          "name": "stdout",
          "text": [
            "Hello World\n"
          ]
        }
      ]
    },
    {
      "cell_type": "code",
      "source": [
        "#7.2\n",
        "with open('file1','a') as file:\n",
        "  file.write('\\nappended text')\n",
        "with open('file1','r') as file:\n",
        "  print(file.read())"
      ],
      "metadata": {
        "colab": {
          "base_uri": "https://localhost:8080/"
        },
        "id": "1awJI9DwBN0X",
        "outputId": "256127d5-6764-4f27-a4c4-3e4d5f14198c"
      },
      "execution_count": 30,
      "outputs": [
        {
          "output_type": "stream",
          "name": "stdout",
          "text": [
            "Hello World\n",
            "appended text\n"
          ]
        }
      ]
    },
    {
      "cell_type": "code",
      "source": [
        "#7.3\n",
        "def countlines(filename):\n",
        "  with open(filename,'r') as file:\n",
        "    lines=file.readlines()\n",
        "    return len(lines)\n",
        "numberoflines=countlines('file1')\n",
        "print(numberoflines)"
      ],
      "metadata": {
        "colab": {
          "base_uri": "https://localhost:8080/"
        },
        "id": "tsy4C8mZBOnQ",
        "outputId": "4685fd8a-295f-4fc4-ce6e-d50917162073"
      },
      "execution_count": 35,
      "outputs": [
        {
          "output_type": "stream",
          "name": "stdout",
          "text": [
            "2\n"
          ]
        }
      ]
    },
    {
      "cell_type": "code",
      "source": [
        "#Ques 8\n",
        "#8.1\n",
        "def divide(a,b):\n",
        "  try:\n",
        "    return a/b\n",
        "  except:\n",
        "    print('Error: Division by zero')\n",
        "num1=10\n",
        "num2=0\n",
        "result=divide(num1,num2)\n",
        "print(result)"
      ],
      "metadata": {
        "colab": {
          "base_uri": "https://localhost:8080/"
        },
        "id": "tKtNVdqlCDmj",
        "outputId": "ce0e4de5-f263-4a7e-c5a6-bd778f81813d"
      },
      "execution_count": 37,
      "outputs": [
        {
          "output_type": "stream",
          "name": "stdout",
          "text": [
            "Error: Division by zero\n",
            "None\n"
          ]
        }
      ]
    },
    {
      "cell_type": "code",
      "source": [
        "#8.2\n",
        "try:\n",
        "  number=float(input('Enter a number:'))\n",
        "  print('The number is:',number)\n",
        "except:\n",
        "  print('Error: Invalid input')"
      ],
      "metadata": {
        "colab": {
          "base_uri": "https://localhost:8080/"
        },
        "id": "lOrPj4krDbz_",
        "outputId": "d75260ef-54d3-40a6-9b4b-e8c88ae844e5"
      },
      "execution_count": 39,
      "outputs": [
        {
          "output_type": "stream",
          "name": "stdout",
          "text": [
            "Enter a number:sos\n",
            "Error: Invalid input\n"
          ]
        }
      ]
    },
    {
      "cell_type": "code",
      "source": [
        "#8.3\n",
        "try:\n",
        "  number=float(input('Enter a number:'))\n",
        "  print('The number is:',number)\n",
        "except:\n",
        "  print('Error: Invalid input')\n",
        "finally:\n",
        "  print('This program is always executed')"
      ],
      "metadata": {
        "colab": {
          "base_uri": "https://localhost:8080/"
        },
        "id": "Ocj5ruSOEUxo",
        "outputId": "2c9bef03-8c00-4100-8809-9d563dbb27f3"
      },
      "execution_count": 40,
      "outputs": [
        {
          "output_type": "stream",
          "name": "stdout",
          "text": [
            "Enter a number:sos\n",
            "Error: Invalid input\n",
            "This program is always executed\n"
          ]
        }
      ]
    },
    {
      "cell_type": "code",
      "source": [
        "#Ques 9\n",
        "#9.1\n",
        "import random\n",
        "res=[random.randint(1,100) for _ in range(5)]\n",
        "print(res)"
      ],
      "metadata": {
        "colab": {
          "base_uri": "https://localhost:8080/"
        },
        "id": "6UDhmInwN_Vh",
        "outputId": "4cb7c744-f44e-4115-c3cd-d90dead302de"
      },
      "execution_count": 4,
      "outputs": [
        {
          "output_type": "stream",
          "name": "stdout",
          "text": [
            "[61, 27, 74, 51, 77]\n"
          ]
        }
      ]
    },
    {
      "cell_type": "code",
      "source": [
        "#9.2\n",
        "def is_prime(number):\n",
        "    if number <= 1:\n",
        "        return False\n",
        "    for i in range(2, number):\n",
        "        if number % i == 0:\n",
        "            return False\n",
        "    return True\n",
        "random_number = random.randint(1, 100)\n",
        "if is_prime(random_number):\n",
        "    print(f\"The generated number {random_number} is prime.\")\n",
        "else:\n",
        "    print(f\"The generated number {random_number} is not prime.\")"
      ],
      "metadata": {
        "colab": {
          "base_uri": "https://localhost:8080/"
        },
        "id": "_2eYfkFNngJU",
        "outputId": "004dfebb-9fbc-4794-ace0-7af7cf1cfebf"
      },
      "execution_count": 7,
      "outputs": [
        {
          "output_type": "stream",
          "name": "stdout",
          "text": [
            "The generated number 83 is prime.\n"
          ]
        }
      ]
    },
    {
      "cell_type": "code",
      "source": [
        "#9.3\n",
        "import random\n",
        "res=random.randint(1,6)\n",
        "print(f'You rolled a {res}')"
      ],
      "metadata": {
        "colab": {
          "base_uri": "https://localhost:8080/"
        },
        "id": "KJbgpz95rfel",
        "outputId": "84babdfd-2c7f-42cf-8b65-9b8d9282a3a5"
      },
      "execution_count": 9,
      "outputs": [
        {
          "output_type": "stream",
          "name": "stdout",
          "text": [
            "You rolled a 6\n"
          ]
        }
      ]
    },
    {
      "cell_type": "code",
      "source": [
        "#9.4\n",
        "import random\n",
        "numbers=[1,2,3,4,5]\n",
        "random.shuffle(numbers)\n",
        "print(numbers)"
      ],
      "metadata": {
        "colab": {
          "base_uri": "https://localhost:8080/"
        },
        "id": "uBZtIoOEsObJ",
        "outputId": "45211265-5de7-439d-97e3-ede7bceecd12"
      },
      "execution_count": 10,
      "outputs": [
        {
          "output_type": "stream",
          "name": "stdout",
          "text": [
            "[5, 2, 3, 1, 4]\n"
          ]
        }
      ]
    },
    {
      "cell_type": "code",
      "source": [
        "#9.5\n",
        "import random\n",
        "items=['apple','banana','cherry']\n",
        "res=random.choice(items)\n",
        "print(res)"
      ],
      "metadata": {
        "colab": {
          "base_uri": "https://localhost:8080/"
        },
        "id": "lo173iuHsmo0",
        "outputId": "eb7080fc-c8ee-4f73-aa4f-899a98cb6c46"
      },
      "execution_count": 12,
      "outputs": [
        {
          "output_type": "stream",
          "name": "stdout",
          "text": [
            "banana\n"
          ]
        }
      ]
    },
    {
      "cell_type": "code",
      "source": [
        "#9.6\n",
        "import random\n",
        "import string\n",
        "def generaterandompassword(length):\n",
        "    characters = string.ascii_letters + string.digits + string.punctuation\n",
        "    password = ''.join(random.choice(characters) for _ in range(length))\n",
        "    return password\n",
        "length = 8\n",
        "random_password = generaterandompassword(length)\n",
        "print(f'Generated password: {random_password}')\n"
      ],
      "metadata": {
        "colab": {
          "base_uri": "https://localhost:8080/"
        },
        "id": "HQSi_sdBs7zm",
        "outputId": "dd3f0ed4-43c1-4186-d054-a335c4509816"
      },
      "execution_count": 14,
      "outputs": [
        {
          "output_type": "stream",
          "name": "stdout",
          "text": [
            "Generated password: t3P]3e#6\n"
          ]
        }
      ]
    },
    {
      "cell_type": "code",
      "source": [
        "#9.7\n",
        "def pickrandomcard():\n",
        "    ranks = ['2', '3', '4', '5', '6', '7', '8', '9', '10', 'J', 'Q', 'K', 'A']\n",
        "    suits = ['Hearts', 'Diamonds', 'Clubs', 'Spades']\n",
        "    rank = random.choice(ranks)\n",
        "    suit = random.choice(suits)\n",
        "    return f\"{rank} of {suit}\"\n",
        "random_card = pickrandomcard()\n",
        "print(f'The randomly picked card is: {random_card}')"
      ],
      "metadata": {
        "colab": {
          "base_uri": "https://localhost:8080/"
        },
        "id": "LueHGFsdvJG7",
        "outputId": "1fd69464-3ce4-4ba0-fd1f-2e55a4944a4e"
      },
      "execution_count": 15,
      "outputs": [
        {
          "output_type": "stream",
          "name": "stdout",
          "text": [
            "The randomly picked card is: A of Clubs\n"
          ]
        }
      ]
    },
    {
      "cell_type": "code",
      "source": [
        "#Ques 10\n",
        "#10.1\n",
        "import sys\n",
        "if len(sys.argv) != 3:\n",
        "    print(\"Usage: python script_name.py <number1> <number2>\")\n",
        "    sys.exit(1)\n",
        "try:\n",
        "    number1 = float(sys.argv[1])\n",
        "    number2 = float(sys.argv[2])\n",
        "    result = number1 + number2\n",
        "    print(f'The sum of {number1} and {number2} is {result}')\n",
        "except ValueError:\n",
        "    print('Error: Both arguments must be valid numbers.')"
      ],
      "metadata": {
        "colab": {
          "base_uri": "https://localhost:8080/"
        },
        "id": "Espyni8_vtUz",
        "outputId": "e411c817-c2ed-471c-d078-6ed30611ee7f"
      },
      "execution_count": 25,
      "outputs": [
        {
          "output_type": "stream",
          "name": "stdout",
          "text": [
            "Error: Both arguments must be valid numbers.\n"
          ]
        }
      ]
    },
    {
      "cell_type": "code",
      "source": [
        "#10.2\n",
        "import sys\n",
        "if len(sys.argv) != 2:\n",
        "    print('Usage: python script_name.py <string')\n",
        "    sys.exit(1)\n",
        "input_string = sys.argv[1]\n",
        "string_length = len(input_string)\n",
        "print(f'The length of the string '{input_string}' is {string_length}.')"
      ],
      "metadata": {
        "colab": {
          "base_uri": "https://localhost:8080/",
          "height": 106
        },
        "id": "MIBgjc3QwVjm",
        "outputId": "8ce0aaf0-6280-44c8-cf96-402aeaef068b"
      },
      "execution_count": 27,
      "outputs": [
        {
          "output_type": "error",
          "ename": "SyntaxError",
          "evalue": "invalid syntax. Perhaps you forgot a comma? (<ipython-input-27-c9dd04fd03b2>, line 7)",
          "traceback": [
            "\u001b[0;36m  File \u001b[0;32m\"<ipython-input-27-c9dd04fd03b2>\"\u001b[0;36m, line \u001b[0;32m7\u001b[0m\n\u001b[0;31m    print(f'The length of the string '{input_string}' is {string_length}.')\u001b[0m\n\u001b[0m          ^\u001b[0m\n\u001b[0;31mSyntaxError\u001b[0m\u001b[0;31m:\u001b[0m invalid syntax. Perhaps you forgot a comma?\n"
          ]
        }
      ]
    },
    {
      "cell_type": "code",
      "source": [
        "#Ques 11\n",
        "#11.1\n",
        "import math\n",
        "number=16\n",
        "sqrt=math.sqrt(number)\n",
        "print(f'The square root of {number} is {sqrt}')"
      ],
      "metadata": {
        "colab": {
          "base_uri": "https://localhost:8080/"
        },
        "id": "ki7AL-xRxoOI",
        "outputId": "8efcd7fa-318b-4e95-eaab-f5db14f47b7a"
      },
      "execution_count": 28,
      "outputs": [
        {
          "output_type": "stream",
          "name": "stdout",
          "text": [
            "The square root of 16 is 4.0\n"
          ]
        }
      ]
    },
    {
      "cell_type": "code",
      "source": [
        "#11.2\n",
        "from datetime import datetime\n",
        "current_datetime = datetime.now()\n",
        "print(\"Current date and time:\", current_datetime)"
      ],
      "metadata": {
        "colab": {
          "base_uri": "https://localhost:8080/"
        },
        "id": "xqS6jaHeyndi",
        "outputId": "d10109a7-80a5-4219-ebbc-445288ba8c98"
      },
      "execution_count": 29,
      "outputs": [
        {
          "output_type": "stream",
          "name": "stdout",
          "text": [
            "Current date and time: 2025-01-13 13:12:52.374624\n"
          ]
        }
      ]
    },
    {
      "cell_type": "code",
      "source": [
        "#11.3\n",
        "import os\n",
        "items = os.listdir('.')\n",
        "files = [item for item in items if os.path.isfile(item)]\n",
        "print(\"Files in the current directory:\")\n",
        "for file in files:\n",
        "    print(file)"
      ],
      "metadata": {
        "colab": {
          "base_uri": "https://localhost:8080/"
        },
        "id": "SNAwDoQ3y68O",
        "outputId": "ef3c83dd-95c0-4387-b207-f865c4224f55"
      },
      "execution_count": 30,
      "outputs": [
        {
          "output_type": "stream",
          "name": "stdout",
          "text": [
            "Files in the current directory:\n"
          ]
        }
      ]
    }
  ]
}